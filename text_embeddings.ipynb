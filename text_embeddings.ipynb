{
  "nbformat": 4,
  "nbformat_minor": 0,
  "metadata": {
    "colab": {
      "provenance": [],
      "authorship_tag": "ABX9TyNCWSN6a1sfGAe2AmP89und",
      "include_colab_link": true
    },
    "kernelspec": {
      "name": "python3",
      "display_name": "Python 3"
    },
    "language_info": {
      "name": "python"
    }
  },
  "cells": [
    {
      "cell_type": "markdown",
      "metadata": {
        "id": "view-in-github",
        "colab_type": "text"
      },
      "source": [
        "<a href=\"https://colab.research.google.com/github/bindhusigireddy/House-price-prediction/blob/main/text_embeddings.ipynb\" target=\"_parent\"><img src=\"https://colab.research.google.com/assets/colab-badge.svg\" alt=\"Open In Colab\"/></a>"
      ]
    },
    {
      "cell_type": "code",
      "execution_count": 1,
      "metadata": {
        "colab": {
          "base_uri": "https://localhost:8080/"
        },
        "id": "txLoOSwdx5as",
        "outputId": "132fd9bd-dc7b-49ab-c0e9-ce4c2f315d80"
      },
      "outputs": [
        {
          "output_type": "stream",
          "name": "stderr",
          "text": [
            "[nltk_data] Downloading package punkt to /root/nltk_data...\n",
            "[nltk_data]   Unzipping tokenizers/punkt.zip.\n",
            "[nltk_data] Downloading package wordnet to /root/nltk_data...\n"
          ]
        },
        {
          "output_type": "execute_result",
          "data": {
            "text/plain": [
              "True"
            ]
          },
          "metadata": {},
          "execution_count": 1
        }
      ],
      "source": [
        "import nltk\n",
        "from nltk.tokenize import word_tokenize\n",
        "from nltk.stem.wordnet import WordNetLemmatizer\n",
        "nltk.download('punkt')\n",
        "nltk.download('wordnet')"
      ]
    },
    {
      "cell_type": "code",
      "source": [
        "# This script give you idea how stemming has been placed by using NLTK and Polyglot libraries.\n",
        "# It is part of morphological analysis\n",
        "\n",
        "from nltk.stem import PorterStemmer\n",
        "#from polyglot.text import Text, Word\n",
        "\n",
        "word = \"unexpected\"\n",
        "text = \"disagreement\"\n",
        "text1 = \"disagree\"\n",
        "text2 = \"agreement\"\n",
        "text3 = \"quirkiness\"\n",
        "text4 = \"historical\"\n",
        "text5 = \"canonical\"\n",
        "text6 = \"happiness\"\n",
        "text7 = \"unkind\"\n",
        "text8 = \"dogs\"\n",
        "text9 = \"expected\"\n",
        "words_derv = [\"happiness\", \"unkind\"]\n",
        "word_infle = [\"dogs\", \"expected\"]\n",
        "words = [\"unexpected\", \"disagreement\", \"disagree\", \"agreement\", \"quirkiness\", \"canonical\" \"historical\"]\n",
        "\n",
        "port = PorterStemmer()\n",
        "print(\"\\nDerivational Morphemes\")\n",
        "print(\" \".join([port.stem(i) for i in text6.split()]))\n",
        "print( \" \".join([port.stem(i) for i in text7.split()]))\n",
        "print(\"\\nInflectional  Morphemes\")\n",
        "print(\" \".join([port.stem(i) for i in text8.split()]))\n",
        "print(\" \".join([port.stem(i) for i in text9.split()]))\n",
        "print(\"\\nSome examples\")\n",
        "print(\" \".join([port.stem(i) for i in word.split()]))\n",
        "print(\" \".join([port.stem(i) for i in text.split()]))\n",
        "print(\" \".join([port.stem(i) for i in text1.split()]))\n",
        "print(\" \".join([port.stem(i) for i in text2.split()]))\n",
        "print(\" \".join([port.stem(i) for i in text3.split()]))\n",
        "print(\" \".join([port.stem(i) for i in text4.split()]))\n",
        "print(\" \".join([port.stem(i) for i in text5.split()]))\n",
        "\n",
        "\n"
      ],
      "metadata": {
        "colab": {
          "base_uri": "https://localhost:8080/"
        },
        "id": "vk65F0rMx6hw",
        "outputId": "6b48aa9b-ac45-43f2-ed08-ae9f21f3c568"
      },
      "execution_count": 5,
      "outputs": [
        {
          "output_type": "stream",
          "name": "stdout",
          "text": [
            "\n",
            "Derivational Morphemes\n",
            "happi\n",
            "unkind\n",
            "\n",
            "Inflectional  Morphemes\n",
            "dog\n",
            "expect\n",
            "\n",
            "Some examples\n",
            "unexpect\n",
            "disagr\n",
            "disagre\n",
            "agreement\n",
            "quirki\n",
            "histor\n",
            "canon\n"
          ]
        }
      ]
    },
    {
      "cell_type": "code",
      "source": [],
      "metadata": {
        "id": "4kJG6CkFyKFw"
      },
      "execution_count": null,
      "outputs": []
    }
  ]
}